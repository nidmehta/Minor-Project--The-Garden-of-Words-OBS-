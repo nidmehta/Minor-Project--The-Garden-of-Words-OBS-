{
 "cells": [
  {
   "cell_type": "code",
   "execution_count": 7,
   "id": "e8b0233c",
   "metadata": {},
   "outputs": [
    {
     "data": {
      "text/plain": [
       "True"
      ]
     },
     "execution_count": 7,
     "metadata": {},
     "output_type": "execute_result"
    }
   ],
   "source": [
    "import webbrowser\n",
    "chrome_path = 'C:/Program Files (x86)/Google/Chrome/Application/chrome.exe %s'\n",
    "webbrowser.get(using = chrome_path).open('https://www.google.com/')"
   ]
  },
  {
   "cell_type": "code",
   "execution_count": null,
   "id": "acdd0646",
   "metadata": {},
   "outputs": [],
   "source": []
  }
 ],
 "metadata": {
  "kernelspec": {
   "display_name": "Python 3",
   "language": "python",
   "name": "python3"
  },
  "language_info": {
   "codemirror_mode": {
    "name": "ipython",
    "version": 3
   },
   "file_extension": ".py",
   "mimetype": "text/x-python",
   "name": "python",
   "nbconvert_exporter": "python",
   "pygments_lexer": "ipython3",
   "version": "3.8.8"
  }
 },
 "nbformat": 4,
 "nbformat_minor": 5
}
